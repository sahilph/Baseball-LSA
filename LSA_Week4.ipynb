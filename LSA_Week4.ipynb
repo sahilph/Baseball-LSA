{
 "cells": [
  {
   "cell_type": "markdown",
   "metadata": {},
   "source": [
    "## Latent Semantic Analysis - Week 4\n",
    "\n",
    "Analyzed by Sahil Phule"
   ]
  },
  {
   "cell_type": "code",
   "execution_count": 272,
   "metadata": {
    "collapsed": true
   },
   "outputs": [],
   "source": [
    "\n",
    "import nltk\n",
    "from nltk.corpus import stopwords\n",
    "from sklearn.feature_extraction.text import TfidfVectorizer\n",
    "from sklearn.decomposition import TruncatedSVD\n"
   ]
  },
  {
   "cell_type": "code",
   "execution_count": 273,
   "metadata": {
    "collapsed": false
   },
   "outputs": [
    {
     "name": "stdout",
     "output_type": "stream",
     "text": [
      "[nltk_data] Downloading package stopwords to /home/sahil/nltk_data...\n",
      "[nltk_data]   Package stopwords is already up-to-date!\n"
     ]
    },
    {
     "data": {
      "text/plain": [
       "True"
      ]
     },
     "execution_count": 273,
     "metadata": {},
     "output_type": "execute_result"
    }
   ],
   "source": [
    "nltk.download('stopwords')"
   ]
  },
  {
   "cell_type": "code",
   "execution_count": 298,
   "metadata": {
    "collapsed": true
   },
   "outputs": [],
   "source": [
    "from sklearn.datasets import fetch_20newsgroups\n",
    "categories = ['rec.sport.baseball']\n",
    "\n",
    "dataset = fetch_20newsgroups(subset='all',shuffle=True, random_state=42, categories=categories)\n",
    "corpus = dataset.data #Data Imported is already text. So no need to use Beautiful Soup.\n"
   ]
  },
  {
   "cell_type": "code",
   "execution_count": 275,
   "metadata": {
    "collapsed": false
   },
   "outputs": [],
   "source": [
    "# Making everything lowercase\n",
    "corpus = [x.lower() for x in corpus]"
   ]
  },
  {
   "cell_type": "markdown",
   "metadata": {},
   "source": [
    "## Stopwords\n",
    "\n",
    "Using stopwords provided in the nltk package. Also adding some of my own to the list. "
   ]
  },
  {
   "cell_type": "code",
   "execution_count": 288,
   "metadata": {
    "collapsed": false
   },
   "outputs": [],
   "source": [
    "stopset = set(stopwords.words('english'))\n",
    "stopset.update(['lt','p','/p','br','amp','quot','field','font','normal','span','0px','rgb','style','51', \n",
    "                'spacing','text','helvetica','size','family', 'space', 'arial', 'height', 'indent', 'letter'\n",
    "                'line','none','sans','serif','transform','line','variant','weight','times', 'new','strong', 'video', 'title'\n",
    "                'white','word','letter', 'roman','0pt','16','color','12','14','21', 'neue', 'apple', 'class',  ])\n",
    "#Adding a few of my own\n",
    "\n",
    "stopset.update(['\\n','\\t','-','*','0','00','000','01','0010','006','cs','ca',\n",
    "                '001211', '18457','000th','001','edu','com','001th','nntp','vb30',\n",
    "               '002' ,'755','002251w','734117130','0000ahc', 'udcps3' ,'cps', '003' ,'759',\n",
    "                '0023' ,'lafibm',\n",
    "                '004746' ,'13007', 'ramsey','0096a95c',\n",
    "'003015', 'vmsb', 'csupomona', '0062','0096b0f0', 'c5de05a0',\n",
    "               '005314', '5700', 'mnemosyne','007','844',\n",
    "                '00cgbabbitt', '00ecgillespi','00ecgillespie',\n",
    "               'uiuc','bsu','005','866', '0114', '619', '534',\n",
    "               '00bjgood', 'leo', 'bsuvc','00mbstultz', 'subject','00x',\n",
    "                '00pmlemen','010745','acad', '010423', '11050','012139','13444',\n",
    "               \n",
    "               ])\n",
    "\n"
   ]
  },
  {
   "cell_type": "markdown",
   "metadata": {},
   "source": [
    "## Vectorizing"
   ]
  },
  {
   "cell_type": "code",
   "execution_count": 295,
   "metadata": {
    "collapsed": false
   },
   "outputs": [
    {
     "data": {
      "text/plain": [
       "u\"from: writingctr@leo.bsuvc.bsu.edu\\nsubject: re: cub fever.\\norganization: ball state university, muncie, in - univ. computing svc's\\nlines: 21\\n\\n\\nin article <kingoz.735285670@camelot>, kingoz@camelot.bradley.edu (orin roth) writes:\\n> \\n>    cub fever is hitting me again. i'm beginning to think they have a \\n>    chance this year. (what the heck am i thinking?)\\n>    sorry. just a moment of incompetence.\\n>    i'll be ok. really. \\n>    orin.\\n>    bradley u.\\n> \\n> --\\n> i'm really a jester in disguise!                                   \\ni hear ya!  then again, we must remember that we are indeed cub fans, and\\nthat the cubs will eventually blow it.  after all, the cubs are the easiest\\nteam in the national league to root for.  no pressure.  you know they will\\nlose eventually.  oh well, i suppose we must have faith.  after all, they\\ndo look pretty good, and they don't even have sandberg back yet.  \\n\\ncubs in '93!!!!!\\n\\ncha\\n\""
      ]
     },
     "execution_count": 295,
     "metadata": {},
     "output_type": "execute_result"
    }
   ],
   "source": [
    "#Earlier Data\n",
    "corpus[0]"
   ]
  },
  {
   "cell_type": "code",
   "execution_count": 289,
   "metadata": {
    "collapsed": true
   },
   "outputs": [],
   "source": [
    "vectorizer = TfidfVectorizer(stop_words=stopset,\n",
    "                                 use_idf=True, ngram_range=(1, 3))\n",
    "X = vectorizer.fit_transform(corpus)"
   ]
  },
  {
   "cell_type": "code",
   "execution_count": 294,
   "metadata": {
    "collapsed": false
   },
   "outputs": [
    {
     "data": {
      "text/plain": [
       "<1x187320 sparse matrix of type '<type 'numpy.float64'>'\n",
       "\twith 212 stored elements in Compressed Sparse Row format>"
      ]
     },
     "execution_count": 294,
     "metadata": {},
     "output_type": "execute_result"
    }
   ],
   "source": [
    "X[0]"
   ]
  },
  {
   "cell_type": "code",
   "execution_count": 296,
   "metadata": {
    "collapsed": false
   },
   "outputs": [
    {
     "name": "stdout",
     "output_type": "stream",
     "text": [
      "  (0, 50608)\t0.0757266939156\n",
      "  (0, 186580)\t0.0757266939156\n",
      "  (0, 28540)\t0.0757266939156\n",
      "  (0, 144261)\t0.0757266939156\n",
      "  (0, 62001)\t0.0757266939156\n",
      "  (0, 75641)\t0.0757266939156\n",
      "  (0, 131370)\t0.0757266939156\n",
      "  (0, 101113)\t0.0757266939156\n",
      "  (0, 64393)\t0.0757266939156\n",
      "  (0, 112468)\t0.0757266939156\n",
      "  (0, 160590)\t0.0757266939156\n",
      "  (0, 178565)\t0.0757266939156\n",
      "  (0, 117710)\t0.0757266939156\n",
      "  (0, 62142)\t0.0757266939156\n",
      "  (0, 101605)\t0.0757266939156\n",
      "  (0, 93400)\t0.0757266939156\n",
      "  (0, 131285)\t0.0757266939156\n",
      "  (0, 141383)\t0.0757266939156\n",
      "  (0, 96038)\t0.0757266939156\n",
      "  (0, 113110)\t0.0757266939156\n",
      "  (0, 162999)\t0.0757266939156\n",
      "  (0, 58609)\t0.0757266939156\n",
      "  (0, 50648)\t0.0757266939156\n",
      "  (0, 35368)\t0.0757266939156\n",
      "  (0, 62128)\t0.0757266939156\n",
      "  :\t:\n",
      "  (0, 184967)\t0.0231320652283\n",
      "  (0, 42869)\t0.0403579719618\n",
      "  (0, 164973)\t0.0231672531944\n",
      "  (0, 32392)\t0.0552876358453\n",
      "  (0, 82328)\t0.0352862910281\n",
      "  (0, 183100)\t0.0160286564865\n",
      "  (0, 141634)\t0.0569067726271\n",
      "  (0, 120393)\t0.113813545254\n",
      "  (0, 37178)\t0.102057586643\n",
      "  (0, 40212)\t0.107770151537\n",
      "  (0, 16092)\t0.0757266939156\n",
      "  (0, 92776)\t0.113813545254\n",
      "  (0, 25342)\t0.0165787087577\n",
      "  (0, 98752)\t0.0105671280826\n",
      "  (0, 161179)\t0.0625681752276\n",
      "  (0, 47328)\t0.0400018836893\n",
      "  (0, 172827)\t0.0403579719618\n",
      "  (0, 112263)\t0.0625681752276\n",
      "  (0, 172863)\t0.0184937411083\n",
      "  (0, 156905)\t0.0383827469074\n",
      "  (0, 29062)\t0.0315622926675\n",
      "  (0, 119782)\t0.0105883904341\n",
      "  (0, 65942)\t0.128374624019\n",
      "  (0, 50532)\t0.165862907536\n",
      "  (0, 184035)\t0.0757266939156\n"
     ]
    }
   ],
   "source": [
    "#vectorized Data\n",
    "print X[0]"
   ]
  },
  {
   "cell_type": "markdown",
   "metadata": {},
   "source": [
    "## LSA"
   ]
  },
  {
   "cell_type": "code",
   "execution_count": 290,
   "metadata": {
    "collapsed": false
   },
   "outputs": [
    {
     "data": {
      "text/plain": [
       "(994, 187320)"
      ]
     },
     "execution_count": 290,
     "metadata": {},
     "output_type": "execute_result"
    }
   ],
   "source": [
    "X.shape\n"
   ]
  },
  {
   "cell_type": "code",
   "execution_count": 291,
   "metadata": {
    "collapsed": false
   },
   "outputs": [
    {
     "data": {
      "text/plain": [
       "TruncatedSVD(algorithm='randomized', n_components=27, n_iter=100,\n",
       "       random_state=None, tol=0.0)"
      ]
     },
     "execution_count": 291,
     "metadata": {},
     "output_type": "execute_result"
    }
   ],
   "source": [
    "lsa = TruncatedSVD(n_components=27, n_iter=100)\n",
    "lsa.fit(X)\n"
   ]
  },
  {
   "cell_type": "code",
   "execution_count": 292,
   "metadata": {
    "collapsed": false
   },
   "outputs": [
    {
     "data": {
      "text/plain": [
       "array([ 0.00028248,  0.00028248,  0.00028248, ...,  0.00111762,\n",
       "        0.00111762,  0.00111762])"
      ]
     },
     "execution_count": 292,
     "metadata": {},
     "output_type": "execute_result"
    }
   ],
   "source": [
    "lsa.components_[0]"
   ]
  },
  {
   "cell_type": "code",
   "execution_count": 293,
   "metadata": {
    "collapsed": false
   },
   "outputs": [
    {
     "name": "stdout",
     "output_type": "stream",
     "text": [
      "Concept 0:\n",
      "year\n",
      "team\n",
      "would\n",
      "game\n",
      "writes\n",
      "article\n",
      "baseball\n",
      "players\n",
      "games\n",
      "one\n",
      " \n",
      "Concept 1:\n",
      "writes article\n",
      "game\n",
      "jewish\n",
      "roger\n",
      "first\n",
      "one\n",
      "players\n",
      "lafayette\n",
      "jhu\n",
      "come\n",
      " \n",
      "Concept 2:\n",
      "clutch\n",
      "morris\n",
      "batting\n",
      "run\n",
      "pitcher\n",
      "win\n",
      "pitching\n",
      "average\n",
      "want\n",
      "hirschbeck\n",
      " \n",
      "Concept 3:\n",
      "year\n",
      "win\n",
      "first\n",
      "team\n",
      "host\n",
      "morris\n",
      "good\n",
      "baseball\n",
      "world\n",
      "also\n",
      " \n",
      "Concept 4:\n",
      "games\n",
      "first\n",
      "last\n",
      "two\n",
      "know\n",
      "aix\n",
      "anyone\n",
      "guys\n",
      "season\n",
      "10\n",
      " \n",
      "Concept 5:\n",
      "article\n",
      "last\n",
      "player\n",
      "ibm\n",
      "04\n",
      "get\n",
      "could\n",
      "league\n",
      "say\n",
      "011653 7403\n",
      " \n",
      "Concept 6:\n",
      "team\n",
      "university\n",
      "organization\n",
      "going\n",
      "one\n",
      "see\n",
      "game\n",
      "go\n",
      "play\n",
      "would\n",
      " \n",
      "Concept 7:\n",
      "runs\n",
      "hitter\n",
      "year\n",
      "good\n",
      "three\n",
      "game\n",
      "many\n",
      "get\n",
      "morris\n",
      "013\n",
      " \n",
      "Concept 8:\n",
      "hit\n",
      "last\n",
      "still\n",
      "better\n",
      "hitter\n",
      "winning\n",
      "scott\n",
      "host\n",
      "first\n",
      "may\n",
      " \n",
      "Concept 9:\n",
      "win\n",
      "011653\n",
      "know\n",
      "average\n",
      "even\n",
      "lines\n",
      "right\n",
      "organization university\n",
      "fans\n",
      "york\n",
      " \n",
      "Concept 10:\n",
      "games\n",
      "article\n",
      "go\n",
      "writes\n",
      "even\n",
      "011653\n",
      "013\n",
      "hitter\n",
      "roger\n",
      "might\n",
      " \n",
      "Concept 11:\n",
      "two\n",
      "game\n",
      "think\n",
      "let\n",
      "roger\n",
      "ball\n",
      "season\n",
      "win\n",
      "anyone\n",
      "ted\n",
      " \n",
      "Concept 12:\n",
      "article\n",
      "year\n",
      "011653\n",
      "see\n",
      "cubs\n",
      "runs\n",
      "better\n",
      "writes article\n",
      "people\n",
      "three\n",
      " \n",
      "Concept 13:\n",
      "games\n",
      "baseball\n",
      "even\n",
      "news\n",
      "much\n",
      "let\n",
      "david\n",
      "posting host\n",
      "like\n",
      "might\n",
      " \n",
      "Concept 14:\n",
      "game\n",
      "go\n",
      "think\n",
      "best\n",
      "pitching\n",
      "better\n",
      "base\n",
      "much\n",
      "morris\n",
      "distribution\n",
      " \n",
      "Concept 15:\n",
      "like\n",
      "hit\n",
      "team\n",
      "game\n",
      "run\n",
      "10\n",
      "years\n",
      "player\n",
      "make\n",
      "league\n",
      " \n",
      "Concept 16:\n",
      "university\n",
      "like\n",
      "players\n",
      "two\n",
      "1993\n",
      "people\n",
      "time\n",
      "say\n",
      "braves\n",
      "011653 7403 princeton\n",
      " \n",
      "Concept 17:\n",
      "get\n",
      "team\n",
      "013 794\n",
      "first\n",
      "right\n",
      "better\n",
      "10\n",
      "morris\n",
      "would\n",
      "last\n",
      " \n",
      "Concept 18:\n",
      "team\n",
      "hit\n",
      "also\n",
      "like\n",
      "morris\n",
      "013\n",
      "anyone\n",
      "still\n",
      "host\n",
      "0100 x132 san\n",
      " \n",
      "Concept 19:\n",
      "know\n",
      "013 794\n",
      "games\n",
      "013\n",
      "011653\n",
      "morris\n",
      "20\n",
      "better\n",
      "like\n",
      "got\n",
      " \n",
      "Concept 20:\n",
      "time\n",
      "runs\n",
      "011653\n",
      "lines\n",
      "really\n",
      "know\n",
      "013 794\n",
      "distribution\n",
      "go\n",
      "average\n",
      " \n",
      "Concept 21:\n",
      "011653\n",
      "game\n",
      "well\n",
      "013 794\n",
      "baseball\n",
      "university\n",
      "article\n",
      "three\n",
      "think\n",
      "one\n",
      " \n",
      "Concept 22:\n",
      "013 794\n",
      "think\n",
      "last\n",
      "still\n",
      "baseball\n",
      "011653\n",
      "come\n",
      "players\n",
      "013\n",
      "go\n",
      " \n",
      "Concept 23:\n",
      "baseball\n",
      "would\n",
      "011653 7403 princeton\n",
      "good\n",
      "posting host\n",
      "hit\n",
      "know\n",
      "players\n",
      "article\n",
      "writes\n",
      " \n",
      "Concept 24:\n",
      "would\n",
      "article\n",
      "writes\n",
      "011653 7403\n",
      "organization\n",
      "host\n",
      "better\n",
      "013\n",
      "know\n",
      "game\n",
      " \n",
      "Concept 25:\n",
      "lines\n",
      "baseball\n",
      "would\n",
      "like\n",
      "organization\n",
      "league\n",
      "get\n",
      "011653\n",
      "could\n",
      "better\n",
      " \n",
      "Concept 26:\n",
      "baseball\n",
      "013 794\n",
      "article\n",
      "year\n",
      "team\n",
      "years\n",
      "john\n",
      "best\n",
      "pitcher\n",
      "well\n",
      " \n"
     ]
    }
   ],
   "source": [
    "terms = vectorizer.get_feature_names()\n",
    "for i, comp in enumerate(lsa.components_): \n",
    "    termsInComp = zip (terms,comp)\n",
    "    sortedTerms =  sorted(termsInComp, key=lambda x: x[1], reverse=True) [:10]\n",
    "    print \"Concept %d:\" % i\n",
    "    for term in sortedTerms:\n",
    "        print term[0]\n",
    "    print \" \""
   ]
  },
  {
   "cell_type": "markdown",
   "metadata": {},
   "source": [
    "## Conclusion\n",
    "\n",
    "I have done the Latent Symantic analysis for the baseball newsgroup. The analysis on the newsgroup speaks about the winning and losing trends of various teams, and also about the performance of the players in it.Like which one was the best picher, which one could have done better, etc.\n",
    "\n",
    "Stopwords were most significant factor in the analysis. In this example I have manually added the stopwords by looking at the data and generated concepts.\n"
   ]
  },
  {
   "cell_type": "code",
   "execution_count": null,
   "metadata": {
    "collapsed": true
   },
   "outputs": [],
   "source": []
  },
  {
   "cell_type": "code",
   "execution_count": null,
   "metadata": {
    "collapsed": true
   },
   "outputs": [],
   "source": []
  },
  {
   "cell_type": "code",
   "execution_count": null,
   "metadata": {
    "collapsed": true
   },
   "outputs": [],
   "source": []
  }
 ],
 "metadata": {
  "kernelspec": {
   "display_name": "Python [Root]",
   "language": "python",
   "name": "Python [Root]"
  },
  "language_info": {
   "codemirror_mode": {
    "name": "ipython",
    "version": 2
   },
   "file_extension": ".py",
   "mimetype": "text/x-python",
   "name": "python",
   "nbconvert_exporter": "python",
   "pygments_lexer": "ipython2",
   "version": "2.7.12"
  }
 },
 "nbformat": 4,
 "nbformat_minor": 0
}
